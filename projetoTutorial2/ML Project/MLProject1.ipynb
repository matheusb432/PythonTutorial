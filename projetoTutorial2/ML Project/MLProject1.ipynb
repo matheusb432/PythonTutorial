{
 "cells": [
  {
   "cell_type": "code",
   "execution_count": 58,
   "metadata": {},
   "outputs": [
    {
     "data": {
      "text/plain": [
       "1.0"
      ]
     },
     "execution_count": 58,
     "metadata": {},
     "output_type": "execute_result"
    }
   ],
   "source": [
    "import pandas as pd\n",
    "# Importando a classe DecisionTreeClassifier do modulo tree do pacote sklearn\n",
    "from sklearn.tree import DecisionTreeClassifier\n",
    "# Importando a função train_test_split do modulo model_selection do pacote sklearn\n",
    "from sklearn.model_selection import train_test_split\n",
    "# Importando a funcao accuracy_score para saber a precisao do modelo de previsao\n",
    "from sklearn.metrics import accuracy_score\n",
    "\n",
    "music_data = pd.read_csv('music.csv')\n",
    "X = music_data.drop(columns=['genre'])\n",
    "y = music_data['genre']\n",
    "# Alocando 20% (0.2) dos dados para testar o algoritmo\n",
    "# Naturalmente, quanto menor o dataset de treino do modelo, mais impreciso ele será.\n",
    "# Inversamente, quanto maior o dataset, mais preciso será.\n",
    "# A função retornará um tuple\n",
    "X_train, X_test, y_train, y_test = train_test_split(X, y, test_size=0.2)\n",
    "\n",
    "# Instanciando a classe DecisionTreeClassifier no objeto model\n",
    "model = DecisionTreeClassifier() \n",
    "# Treinando o modelo com o set de input (X) e output (y)\n",
    "# Obs; usando apenas o dataset de treinamento para isso\n",
    "model.fit(X_train, y_train)\n",
    "# Fazendo com que o modelo faça duas previsões sobre qual sera o genero de \n",
    "# musica que um homem com 21 anos gostará, e qual sera o genero de musica \n",
    "# que uma mulher de 22 anos gostará.\n",
    "# predictions = model.predict([ [21,1], [22, 0]])\n",
    "predictions = model.predict(X_test)\n",
    "# Guarda um valor entre 0 e 1 (leia-se como porcentagem) da precisao do modelo\n",
    "score = accuracy_score(y_test, predictions)\n",
    "# Inspecionando as previsoes que o modelo fez.\n",
    "score"
   ]
  },
  {
   "cell_type": "code",
   "execution_count": null,
   "metadata": {},
   "outputs": [],
   "source": []
  }
 ],
 "metadata": {
  "kernelspec": {
   "display_name": "Python 3",
   "language": "python",
   "name": "python3"
  },
  "language_info": {
   "codemirror_mode": {
    "name": "ipython",
    "version": 3
   },
   "file_extension": ".py",
   "mimetype": "text/x-python",
   "name": "python",
   "nbconvert_exporter": "python",
   "pygments_lexer": "ipython3",
   "version": "3.8.3"
  }
 },
 "nbformat": 4,
 "nbformat_minor": 4
}
